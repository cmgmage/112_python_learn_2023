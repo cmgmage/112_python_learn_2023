{
 "cells": [
  {
   "cell_type": "code",
   "execution_count": 3,
   "metadata": {},
   "outputs": [
    {
     "name": "stdout",
     "output_type": "stream",
     "text": [
      "請輸入學生分數(最高300分):\n",
      "豬腦，不可以超過300\n"
     ]
    }
   ],
   "source": [
    "#學生總分為300\n",
    "import pyinputplus as pyip\n",
    "\n",
    "scores = pyip.inputNum(\"請輸入學生分數(最高300分):\")\n",
    "name = \"花田一路\"\n",
    "print()\n",
    "if scores <=300:\n",
    "    print(f\"學生{name}分數{scores}\") #字串插補\n",
    "else:\n",
    "    print(f\"豬腦，不可以超過300\")"
   ]
  },
  {
   "cell_type": "code",
   "execution_count": 5,
   "metadata": {},
   "outputs": [
    {
     "name": "stdout",
     "output_type": "stream",
     "text": [
      "請輸入學生分數(最高300分):Number must be at maximum 300.\n",
      "請輸入學生分數(最高300分):Number must be at maximum 300.\n",
      "請輸入學生分數(最高300分):Number must be at minimum 0.\n",
      "請輸入學生分數(最高300分):\n",
      "學生花田一路分數300\n"
     ]
    }
   ],
   "source": [
    "#學生總分為300\n",
    "import pyinputplus as pyip\n",
    "\n",
    "scores = pyip.inputNum(\"請輸入學生分數(最高300分):\",min=0,max=300)\n",
    "name = \"花田一路\"\n",
    "print()\n",
    "print(f\"學生{name}分數{scores}\") #字串插補"
   ]
  },
  {
   "cell_type": "code",
   "execution_count": 17,
   "metadata": {},
   "outputs": [
    {
     "name": "stdout",
     "output_type": "stream",
     "text": [
      "請輸入學生分數:300\n",
      "學生是否符合加分條件(請選擇1 Or 2):\n",
      "1. Yes\n",
      "2. No\n",
      "不加分\n"
     ]
    }
   ],
   "source": [
    "#學生總分為300\n",
    "#有些學生可以加分5%\n",
    "#如果加分超過300，就以300分為準\n",
    "\n",
    "import pyinputplus as pyip\n",
    "\n",
    "scores = pyip.inputInt(\"請輸入學生分數:\",min=0,max=300)\n",
    "print(scores)\n",
    "isYes = pyip.inputMenu(['Yes','No'],prompt=\"學生是否符合加分條件(請選擇1 Or 2):\\n\",numbered=True)\n",
    "if isYes == 'Yes':\n",
    "    print(\"加分\")\n",
    "else:\n",
    "    print(\"不加分\")\n"
   ]
  },
  {
   "cell_type": "code",
   "execution_count": 30,
   "metadata": {},
   "outputs": [
    {
     "name": "stdout",
     "output_type": "stream",
     "text": [
      "-66\n",
      "3\n",
      "虛數\n"
     ]
    }
   ],
   "source": [
    "x = int(input(\"請輸入數字 x(正值/負值):\"))\n",
    "y = int(input(\"請輸入數字 y(正值):\"))\n",
    "print(x)\n",
    "print(y)\n",
    "if x >= 0 :\n",
    "    t = x ** 1/y\n",
    "    print(f\"{x} ** 1/{y} = {t}\")\n",
    "else:\n",
    "    if x % 2 == 0 :\n",
    "        print(\"虛數\")\n",
    "    else:\n",
    "        t = -(-x) ** (1/y)\n",
    "        print(f\"-({x}) ** (1 / {y}) = {t}\")\n"
   ]
  },
  {
   "cell_type": "code",
   "execution_count": 31,
   "metadata": {},
   "outputs": [
    {
     "name": "stdout",
     "output_type": "stream",
     "text": [
      "甲\n"
     ]
    }
   ],
   "source": [
    "scores = 75\n",
    "\n",
    "if scores < 60:\n",
    "    print(\"不及格\")\n",
    "elif scores >= 80:\n",
    "    print(\"優\")\n",
    "else:\n",
    "    print(\"甲\")"
   ]
  }
 ],
 "metadata": {
  "kernelspec": {
   "display_name": "Python 3",
   "language": "python",
   "name": "python3"
  },
  "language_info": {
   "codemirror_mode": {
    "name": "ipython",
    "version": 3
   },
   "file_extension": ".py",
   "mimetype": "text/x-python",
   "name": "python",
   "nbconvert_exporter": "python",
   "pygments_lexer": "ipython3",
   "version": "3.10.13"
  }
 },
 "nbformat": 4,
 "nbformat_minor": 2
}
