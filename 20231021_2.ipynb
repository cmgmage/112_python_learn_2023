{
 "cells": [
  {
   "cell_type": "code",
   "execution_count": 2,
   "metadata": {},
   "outputs": [
    {
     "name": "stdout",
     "output_type": "stream",
     "text": [
      "請輸入學生分數(最高300分):\n",
      "學生花田一路分數310\n"
     ]
    }
   ],
   "source": [
    "#學生總階為300\n",
    "import pyinputplus as pyip\n",
    "\n",
    "scores = pyip.inputNum(\"請輸入學生分數(最高300分):\")\n",
    "name = \"花田一路\"\n",
    "print()\n",
    "print(f\"學生{name}分數{scores}\") #字串插補"
   ]
  }
 ],
 "metadata": {
  "kernelspec": {
   "display_name": "Python 3",
   "language": "python",
   "name": "python3"
  },
  "language_info": {
   "codemirror_mode": {
    "name": "ipython",
    "version": 3
   },
   "file_extension": ".py",
   "mimetype": "text/x-python",
   "name": "python",
   "nbconvert_exporter": "python",
   "pygments_lexer": "ipython3",
   "version": "3.10.13"
  }
 },
 "nbformat": 4,
 "nbformat_minor": 2
}
