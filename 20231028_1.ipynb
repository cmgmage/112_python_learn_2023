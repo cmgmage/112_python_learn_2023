{
 "cells": [
  {
   "cell_type": "code",
   "execution_count": 1,
   "metadata": {},
   "outputs": [
    {
     "data": {
      "text/plain": [
       "5050"
      ]
     },
     "metadata": {},
     "output_type": "display_data"
    }
   ],
   "source": [
    "n = 0\n",
    "for i in range(1,101):\n",
    "    n += i\n",
    "\n",
    "display(n)"
   ]
  },
  {
   "cell_type": "code",
   "execution_count": 4,
   "metadata": {},
   "outputs": [
    {
     "name": "stdout",
     "output_type": "stream",
     "text": [
      "i=1\n",
      "j=1\n",
      "j=2\n",
      "j=3\n",
      "j=4\n",
      "j=5\n",
      "j=6\n",
      "j=7\n",
      "j=8\n",
      "j=9\n",
      "================\n",
      "i=2\n",
      "j=1\n",
      "j=2\n",
      "j=3\n",
      "j=4\n",
      "j=5\n",
      "j=6\n",
      "j=7\n",
      "j=8\n",
      "j=9\n",
      "================\n",
      "i=3\n",
      "j=1\n",
      "j=2\n",
      "j=3\n",
      "j=4\n",
      "j=5\n",
      "j=6\n",
      "j=7\n",
      "j=8\n",
      "j=9\n",
      "================\n",
      "i=4\n",
      "j=1\n",
      "j=2\n",
      "j=3\n",
      "j=4\n",
      "j=5\n",
      "j=6\n",
      "j=7\n",
      "j=8\n",
      "j=9\n",
      "================\n",
      "i=5\n",
      "j=1\n",
      "j=2\n",
      "j=3\n",
      "j=4\n",
      "j=5\n",
      "j=6\n",
      "j=7\n",
      "j=8\n",
      "j=9\n",
      "================\n",
      "i=6\n",
      "j=1\n",
      "j=2\n",
      "j=3\n",
      "j=4\n",
      "j=5\n",
      "j=6\n",
      "j=7\n",
      "j=8\n",
      "j=9\n",
      "================\n",
      "i=7\n",
      "j=1\n",
      "j=2\n",
      "j=3\n",
      "j=4\n",
      "j=5\n",
      "j=6\n",
      "j=7\n",
      "j=8\n",
      "j=9\n",
      "================\n",
      "i=8\n",
      "j=1\n",
      "j=2\n",
      "j=3\n",
      "j=4\n",
      "j=5\n",
      "j=6\n",
      "j=7\n",
      "j=8\n",
      "j=9\n",
      "================\n",
      "i=9\n",
      "j=1\n",
      "j=2\n",
      "j=3\n",
      "j=4\n",
      "j=5\n",
      "j=6\n",
      "j=7\n",
      "j=8\n",
      "j=9\n",
      "================\n"
     ]
    }
   ],
   "source": [
    "for i in range(1,10):\n",
    "    print(f'i={i}')\n",
    "    for j in range(1,10):\n",
    "        print(f'j={j}')\n",
    "    print(\"================\")"
   ]
  },
  {
   "cell_type": "code",
   "execution_count": 6,
   "metadata": {},
   "outputs": [
    {
     "name": "stdout",
     "output_type": "stream",
     "text": [
      "i=1\n",
      "j=123456789\n",
      "==============\n",
      "i=2\n",
      "j=123456789\n",
      "==============\n",
      "i=3\n",
      "j=123456789\n",
      "==============\n",
      "i=4\n",
      "j=123456789\n",
      "==============\n",
      "i=5\n",
      "j=123456789\n",
      "==============\n",
      "i=6\n",
      "j=123456789\n",
      "==============\n",
      "i=7\n",
      "j=123456789\n",
      "==============\n",
      "i=8\n",
      "j=123456789\n",
      "==============\n",
      "i=9\n",
      "j=123456789\n",
      "==============\n"
     ]
    }
   ],
   "source": [
    "for i in range(1,10):\n",
    "    print(f'i={i}')\n",
    "    print('j=',end='')\n",
    "    for j in range(1,10):\n",
    "        print(f'{j}',end='')\n",
    "    print(\"\\n==============\")"
   ]
  },
  {
   "cell_type": "code",
   "execution_count": 7,
   "metadata": {},
   "outputs": [
    {
     "name": "stdout",
     "output_type": "stream",
     "text": [
      "1*1=11*2=21*3=31*4=41*5=51*6=61*7=71*8=81*9=9\n",
      "2*1=22*2=42*3=62*4=82*5=102*6=122*7=142*8=162*9=18\n",
      "3*1=33*2=63*3=93*4=123*5=153*6=183*7=213*8=243*9=27\n",
      "4*1=44*2=84*3=124*4=164*5=204*6=244*7=284*8=324*9=36\n",
      "5*1=55*2=105*3=155*4=205*5=255*6=305*7=355*8=405*9=45\n",
      "6*1=66*2=126*3=186*4=246*5=306*6=366*7=426*8=486*9=54\n",
      "7*1=77*2=147*3=217*4=287*5=357*6=427*7=497*8=567*9=63\n",
      "8*1=88*2=168*3=248*4=328*5=408*6=488*7=568*8=648*9=72\n",
      "9*1=99*2=189*3=279*4=369*5=459*6=549*7=639*8=729*9=81\n"
     ]
    }
   ],
   "source": [
    "for i in range(1,10):\n",
    "    for j in range(1,10):\n",
    "        print(f'{i}*{j}={i*j}',end='')\n",
    "    print()"
   ]
  },
  {
   "cell_type": "code",
   "execution_count": 19,
   "metadata": {},
   "outputs": [
    {
     "name": "stdout",
     "output_type": "stream",
     "text": [
      "0\n",
      "10\n",
      "20\n",
      "27\n",
      "31\n",
      "39\n",
      "46\n",
      "52\n",
      "57\n",
      "64\n",
      "65\n",
      "75\n",
      "79\n",
      "84\n",
      "87\n",
      "89\n",
      "99\n"
     ]
    }
   ],
   "source": [
    "import random\n",
    "n = 0\n",
    "while n<=100:\n",
    "    print(n)\n",
    "    n += random.randint(1,10)\n",
    "    "
   ]
  },
  {
   "cell_type": "code",
   "execution_count": 21,
   "metadata": {},
   "outputs": [
    {
     "name": "stdout",
     "output_type": "stream",
     "text": [
      "9\n",
      "4\n",
      "1\n",
      "25\n",
      "應用程式結束\n"
     ]
    }
   ],
   "source": [
    "#奇數輸出平方\n",
    "#偶數輸出原來的值\n",
    "#'q'離開\n",
    "while True:\n",
    "    value = input('請輸入整數，輸入(q)離開:')\n",
    "    if value == 'q':\n",
    "        break\n",
    "    value = int(value)\n",
    "    if value % 2 == 1:\n",
    "        print(value ** 2)\n",
    "    else:\n",
    "        print(value)\n",
    "print(\"應用程式結束\")"
   ]
  },
  {
   "cell_type": "code",
   "execution_count": 30,
   "metadata": {},
   "outputs": [
    {
     "name": "stdout",
     "output_type": "stream",
     "text": [
      "應用程式結束\n",
      "總共執行1\n",
      "2\n",
      "應用程式結束\n",
      "總共執行2\n",
      "4\n",
      "應用程式結束\n",
      "總共執行5\n",
      "12\n"
     ]
    }
   ],
   "source": [
    "#請設計一個程式，讓使用者輸入數值，只有加總正偶數值，如果輸入負數，結束程式。\n",
    "\n",
    "total = 0\n",
    "num = 0\n",
    "while(True):\n",
    "    value = int(input(f\"請輸入第{num+1}數值:\"))\n",
    "    if value < 0:\n",
    "        break\n",
    "    elif value % 2 == 1:\n",
    "        num += 1\n",
    "        continue\n",
    "    else:\n",
    "        num += 1\n",
    "        total += value\n",
    "\n",
    "\n",
    "    print(\"應用程式結束\")\n",
    "    print(f\"總共執行{num}\")\n",
    "    print(total)"
   ]
  }
 ],
 "metadata": {
  "kernelspec": {
   "display_name": "Python 3",
   "language": "python",
   "name": "python3"
  },
  "language_info": {
   "codemirror_mode": {
    "name": "ipython",
    "version": 3
   },
   "file_extension": ".py",
   "mimetype": "text/x-python",
   "name": "python",
   "nbconvert_exporter": "python",
   "pygments_lexer": "ipython3",
   "version": "3.10.13"
  }
 },
 "nbformat": 4,
 "nbformat_minor": 2
}
