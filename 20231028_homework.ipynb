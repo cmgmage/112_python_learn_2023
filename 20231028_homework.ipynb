{
 "cells": [
  {
   "cell_type": "code",
   "execution_count": 11,
   "metadata": {},
   "outputs": [],
   "source": [
    "def blood_pressure(sbp,dbp):\n",
    "    suggestion =  \"\"\n",
    "    if (sbp < 120) and (dbp < 80):\n",
    "        return \"正常\"\n",
    "    elif (120 <= sbp <=129) and (dbp < 80):\n",
    "        return \"血壓升高\"\n",
    "    elif (sbp >= 130) and (dbp < 80):\n",
    "        return \"單純收縮期高血壓\"\n",
    "    elif ( 130 <= sbp <= 139) or (80 <= dbp <=89):\n",
    "        return \"高血壓一期\"\n",
    "    elif sbp >=140 or dbp >= 90:\n",
    "        return \"高血壓二期\"\n",
    "    "
   ]
  },
  {
   "cell_type": "code",
   "execution_count": 15,
   "metadata": {},
   "outputs": [
    {
     "name": "stdout",
     "output_type": "stream",
     "text": [
      "收縮壓:70 / 舒張壓:60 -->正常\n",
      "提示:是否繼續限輸入 Y 或 N\n",
      "提示:是否繼續限輸入 Y 或 N\n",
      "收縮壓:58 / 舒張壓:90 -->高血壓二期\n",
      "==結束==\n"
     ]
    }
   ],
   "source": [
    "while(True):\n",
    "    sbp = int(input(\"請輸入收縮壓:\"))\n",
    "    dbp = int(input(\"請輸入舒張壓:\"))\n",
    "    suggestion = blood_pressure(sbp,dbp)\n",
    "    print (f\"收縮壓:{sbp} / 舒張壓:{dbp} -->{suggestion}\")\n",
    "          \n",
    "    while(True):\n",
    "        yn = input(\"是否繼續判斷，Y/N\").upper()\n",
    "        if yn == 'Y' or yn == 'N':\n",
    "            break\n",
    "        else:\n",
    "            print(\"提示:是否繼續限輸入 Y 或 N\")\n",
    "            continue\n",
    "        \n",
    "    if yn == 'Y':\n",
    "        continue\n",
    "    elif yn == 'N':\n",
    "        print(\"==結束==\")\n",
    "        break         \n"
   ]
  }
 ],
 "metadata": {
  "kernelspec": {
   "display_name": "Python 3",
   "language": "python",
   "name": "python3"
  },
  "language_info": {
   "codemirror_mode": {
    "name": "ipython",
    "version": 3
   },
   "file_extension": ".py",
   "mimetype": "text/x-python",
   "name": "python",
   "nbconvert_exporter": "python",
   "pygments_lexer": "ipython3",
   "version": "3.10.13"
  }
 },
 "nbformat": 4,
 "nbformat_minor": 2
}
