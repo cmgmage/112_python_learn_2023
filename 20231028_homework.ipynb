{
 "cells": [
  {
   "cell_type": "code",
   "execution_count": 23,
   "metadata": {},
   "outputs": [
    {
     "name": "stdout",
     "output_type": "stream",
     "text": [
      "\n"
     ]
    }
   ],
   "source": [
    "sbp = int(input(\"請輸入收縮壓:\"))\n",
    "dbp = int(input(\"請輸入舒張壓:\"))\n",
    "suggestion =  \"\"\n",
    "if (sbp < 120 and dbp < 80):\n",
    "    suggestion = \"正常\"\n",
    "elif (sbp >= 120 and sbp <=129 and dbp < 80):\n",
    "    suggestion = \"血壓升高\"\n",
    "elif ((sbp >= 130 and sbp <= 139) or (dbp <= 80 and dbp >=89)):\n",
    "    suggestion = \"高血壓一期\"\n",
    "elif sbp >=140 or dbp >= 90:\n",
    "    suggestion =\"高血壓二期\"\n",
    "elif sbp >= 130 and sbp < 80:\n",
    "    suggestion =\"單純收縮期高血壓\"\n",
    "print(suggestion)"
   ]
  }
 ],
 "metadata": {
  "kernelspec": {
   "display_name": "Python 3",
   "language": "python",
   "name": "python3"
  },
  "language_info": {
   "codemirror_mode": {
    "name": "ipython",
    "version": 3
   },
   "file_extension": ".py",
   "mimetype": "text/x-python",
   "name": "python",
   "nbconvert_exporter": "python",
   "pygments_lexer": "ipython3",
   "version": "3.10.13"
  }
 },
 "nbformat": 4,
 "nbformat_minor": 2
}
