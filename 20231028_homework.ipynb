sbp = int(input("請輸入收縮壓:"))
dbp = int(input("請輸入舒張壓:"))
suggestion =  ""
if sbp < 120 && dbp < 80:
    suggestion = "正常"
elif sbp >= 120 && dbp <=129 && dbp < 80:
    subbestion = "血壓升高"
print(suggestion)