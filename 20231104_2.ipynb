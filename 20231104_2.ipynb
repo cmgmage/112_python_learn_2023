{
 "cells": [
  {
   "cell_type": "code",
   "execution_count": 1,
   "metadata": {},
   "outputs": [
    {
     "name": "stdout",
     "output_type": "stream",
     "text": [
      "63\n",
      "============猜數字遊戲===========\n",
      "\n",
      "賓果!猜對了，答案是:63\n",
      "您猜了1次\n"
     ]
    }
   ],
   "source": [
    "import tools\n",
    "def main():\n",
    "    while(True):\n",
    "        tools.playGame()\n",
    "        playAgain = input(\"你要繼續嗎(y,n)?\")\n",
    "        if playAgain == \"n\":\n",
    "            break\n",
    "    print(\"遊戲結束\")\n",
    "\n",
    "if __name__ == \"__main__\":\n",
    "     main()\n"
   ]
  }
 ],
 "metadata": {
  "kernelspec": {
   "display_name": "Python 3",
   "language": "python",
   "name": "python3"
  },
  "language_info": {
   "codemirror_mode": {
    "name": "ipython",
    "version": 3
   },
   "file_extension": ".py",
   "mimetype": "text/x-python",
   "name": "python",
   "nbconvert_exporter": "python",
   "pygments_lexer": "ipython3",
   "version": "3.10.13"
  }
 },
 "nbformat": 4,
 "nbformat_minor": 2
}
