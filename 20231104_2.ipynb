{
 "cells": [
  {
   "cell_type": "code",
   "execution_count": 1,
   "metadata": {},
   "outputs": [
    {
     "name": "stdout",
     "output_type": "stream",
     "text": [
      "63\n",
      "============猜數字遊戲===========\n",
      "\n",
      "賓果!猜對了，答案是:63\n",
      "您猜了1次\n",
      "46\n",
      "============猜數字遊戲===========\n",
      "\n"
     ]
    },
    {
     "ename": "ValueError",
     "evalue": "invalid literal for int() with base 10: ''",
     "output_type": "error",
     "traceback": [
      "\u001b[0;31m---------------------------------------------------------------------------\u001b[0m",
      "\u001b[0;31mValueError\u001b[0m                                Traceback (most recent call last)",
      "\u001b[1;32m/workspaces/112_python_learn_2023/20231104_2.ipynb Cell 1\u001b[0m line \u001b[0;36m1\n\u001b[1;32m      <a href='vscode-notebook-cell://codespaces%2Bstunning-space-acorn-jj5x46vj55xjfq7pw/workspaces/112_python_learn_2023/20231104_2.ipynb#W0sdnNjb2RlLXJlbW90ZQ%3D%3D?line=7'>8</a>\u001b[0m     \u001b[39mprint\u001b[39m(\u001b[39m\"\u001b[39m\u001b[39m遊戲結束\u001b[39m\u001b[39m\"\u001b[39m)\n\u001b[1;32m     <a href='vscode-notebook-cell://codespaces%2Bstunning-space-acorn-jj5x46vj55xjfq7pw/workspaces/112_python_learn_2023/20231104_2.ipynb#W0sdnNjb2RlLXJlbW90ZQ%3D%3D?line=9'>10</a>\u001b[0m \u001b[39mif\u001b[39;00m \u001b[39m__name__\u001b[39m \u001b[39m==\u001b[39m \u001b[39m\"\u001b[39m\u001b[39m__main__\u001b[39m\u001b[39m\"\u001b[39m:\n\u001b[0;32m---> <a href='vscode-notebook-cell://codespaces%2Bstunning-space-acorn-jj5x46vj55xjfq7pw/workspaces/112_python_learn_2023/20231104_2.ipynb#W0sdnNjb2RlLXJlbW90ZQ%3D%3D?line=10'>11</a>\u001b[0m      main()\n",
      "\u001b[1;32m/workspaces/112_python_learn_2023/20231104_2.ipynb Cell 1\u001b[0m line \u001b[0;36m4\n\u001b[1;32m      <a href='vscode-notebook-cell://codespaces%2Bstunning-space-acorn-jj5x46vj55xjfq7pw/workspaces/112_python_learn_2023/20231104_2.ipynb#W0sdnNjb2RlLXJlbW90ZQ%3D%3D?line=1'>2</a>\u001b[0m \u001b[39mdef\u001b[39;00m \u001b[39mmain\u001b[39m():\n\u001b[1;32m      <a href='vscode-notebook-cell://codespaces%2Bstunning-space-acorn-jj5x46vj55xjfq7pw/workspaces/112_python_learn_2023/20231104_2.ipynb#W0sdnNjb2RlLXJlbW90ZQ%3D%3D?line=2'>3</a>\u001b[0m     \u001b[39mwhile\u001b[39;00m(\u001b[39mTrue\u001b[39;00m):\n\u001b[0;32m----> <a href='vscode-notebook-cell://codespaces%2Bstunning-space-acorn-jj5x46vj55xjfq7pw/workspaces/112_python_learn_2023/20231104_2.ipynb#W0sdnNjb2RlLXJlbW90ZQ%3D%3D?line=3'>4</a>\u001b[0m         tools\u001b[39m.\u001b[39;49mplayGame()\n\u001b[1;32m      <a href='vscode-notebook-cell://codespaces%2Bstunning-space-acorn-jj5x46vj55xjfq7pw/workspaces/112_python_learn_2023/20231104_2.ipynb#W0sdnNjb2RlLXJlbW90ZQ%3D%3D?line=4'>5</a>\u001b[0m         playAgain \u001b[39m=\u001b[39m \u001b[39minput\u001b[39m(\u001b[39m\"\u001b[39m\u001b[39m你要繼續嗎(y,n)?\u001b[39m\u001b[39m\"\u001b[39m)\n\u001b[1;32m      <a href='vscode-notebook-cell://codespaces%2Bstunning-space-acorn-jj5x46vj55xjfq7pw/workspaces/112_python_learn_2023/20231104_2.ipynb#W0sdnNjb2RlLXJlbW90ZQ%3D%3D?line=5'>6</a>\u001b[0m         \u001b[39mif\u001b[39;00m playAgain \u001b[39m==\u001b[39m \u001b[39m\"\u001b[39m\u001b[39mn\u001b[39m\u001b[39m\"\u001b[39m:\n",
      "File \u001b[0;32m/workspaces/112_python_learn_2023/tools.py:10\u001b[0m, in \u001b[0;36mplayGame\u001b[0;34m()\u001b[0m\n\u001b[1;32m      8\u001b[0m \u001b[39mprint\u001b[39m(\u001b[39m\"\u001b[39m\u001b[39m============猜數字遊戲===========\u001b[39m\u001b[39m\\n\u001b[39;00m\u001b[39m\"\u001b[39m)\n\u001b[1;32m      9\u001b[0m \u001b[39mwhile\u001b[39;00m(\u001b[39mTrue\u001b[39;00m):\n\u001b[0;32m---> 10\u001b[0m     keyin \u001b[39m=\u001b[39m \u001b[39mint\u001b[39;49m(\u001b[39minput\u001b[39;49m(\u001b[39mf\u001b[39;49m\u001b[39m\"\u001b[39;49m\u001b[39m猜數字的範圍\u001b[39;49m\u001b[39m{\u001b[39;49;00m\u001b[39mmin\u001b[39;49m\u001b[39m}\u001b[39;49;00m\u001b[39m~\u001b[39;49m\u001b[39m{\u001b[39;49;00m\u001b[39mmax\u001b[39;49m\u001b[39m}\u001b[39;49;00m\u001b[39m:\u001b[39;49m\u001b[39m\"\u001b[39;49m))\n\u001b[1;32m     11\u001b[0m     count \u001b[39m+\u001b[39m\u001b[39m=\u001b[39m \u001b[39m1\u001b[39m\n\u001b[1;32m     12\u001b[0m     \u001b[39mif\u001b[39;00m(keyin \u001b[39m>\u001b[39m\u001b[39m=\u001b[39m \u001b[39mmin\u001b[39m \u001b[39mand\u001b[39;00m keyin \u001b[39m<\u001b[39m\u001b[39m=\u001b[39m \u001b[39mmax\u001b[39m):\n",
      "\u001b[0;31mValueError\u001b[0m: invalid literal for int() with base 10: ''"
     ]
    }
   ],
   "source": [
    "import tools\n",
    "def main():\n",
    "    while(True):\n",
    "        tools.playGame()\n",
    "        playAgain = input(\"你要繼續嗎(y,n)?\")\n",
    "        if playAgain == \"n\":\n",
    "            break\n",
    "    print(\"遊戲結束\")\n",
    "\n",
    "if __name__ == \"__main__\":\n",
    "     main()\n"
   ]
  }
 ],
 "metadata": {
  "kernelspec": {
   "display_name": "Python 3",
   "language": "python",
   "name": "python3"
  },
  "language_info": {
   "codemirror_mode": {
    "name": "ipython",
    "version": 3
   },
   "file_extension": ".py",
   "mimetype": "text/x-python",
   "name": "python",
   "nbconvert_exporter": "python",
   "pygments_lexer": "ipython3",
   "version": "3.10.13"
  }
 },
 "nbformat": 4,
 "nbformat_minor": 2
}
