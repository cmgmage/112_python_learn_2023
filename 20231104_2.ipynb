{
 "cells": [
  {
   "cell_type": "code",
   "execution_count": null,
   "metadata": {},
   "outputs": [],
   "source": [
    "import random\n",
    "def playgame(max:int,min:int) -> None:\n",
    "    count = 0\n",
    "    target = random.randint(min,max)\n",
    "    print(\"============猜數字遊戲===========\\n\")\n",
    "    while(True):\n",
    "        keyin = int(input(f\"猜數字的範圍{min}~{max}\"))\n",
    "        count += 1\n",
    "        if(keyin >= min and keyin <= max):\n",
    "            if keyin == target:\n",
    "                print(f\"賓果!猜對了，答案是:{keyin}\")\n",
    "                break\n",
    "            elif keyin > target:\n",
    "                print(\"再小一點\")\n",
    "                max = keyin - 1\n",
    "            elif keyin < target:\n",
    "                print(\"再大一點\")\n",
    "                min = keyin + 1\n",
    "            print(f\"加油，您已經猜了{count}次\")\n",
    "            continue\n",
    "        else:\n",
    "            print(\"請輸入提示範圍內的數字\")\n",
    "    print(f\"您猜了{count}次\")\n",
    "    print(\"遊戲結束\")    "
   ]
  }
 ],
 "metadata": {
  "language_info": {
   "name": "python"
  }
 },
 "nbformat": 4,
 "nbformat_minor": 2
}
