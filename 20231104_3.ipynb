{
 "cells": [
  {
   "cell_type": "code",
   "execution_count": 18,
   "metadata": {},
   "outputs": [],
   "source": [
    "class Student():\n",
    "    def __init__(self,na,ch,en,ma):\n",
    "        self.name = na\n",
    "        self.chinese =ch\n",
    "        self.english = en\n",
    "        self.math = ma\n"
   ]
  },
  {
   "cell_type": "code",
   "execution_count": 23,
   "metadata": {},
   "outputs": [
    {
     "data": {
      "text/plain": [
       "__main__.Student"
      ]
     },
     "execution_count": 23,
     "metadata": {},
     "output_type": "execute_result"
    }
   ],
   "source": [
    "stu1 = Student(\"robort\",78,90,92)\n",
    "type(stu1)\n"
   ]
  },
  {
   "cell_type": "code",
   "execution_count": 21,
   "metadata": {},
   "outputs": [
    {
     "name": "stdout",
     "output_type": "stream",
     "text": [
      "robort\n",
      "78\n",
      "90\n",
      "92\n"
     ]
    }
   ],
   "source": [
    "stu1 = Student(\"robort\",78,90,92)\n",
    "type(stu1)\n",
    "print(stu1.name)\n",
    "print(stu1.chinese)\n",
    "print(stu1.english)\n",
    "print(stu1.math)"
   ]
  },
  {
   "cell_type": "code",
   "execution_count": 5,
   "metadata": {},
   "outputs": [],
   "source": [
    "stu1 = Student()\n",
    "stu1.name = \"robert\"\n",
    "stu1.chinese = 78\n",
    "stu1.english = 92\n",
    "stu1.math = 82\n"
   ]
  },
  {
   "cell_type": "code",
   "execution_count": 6,
   "metadata": {},
   "outputs": [],
   "source": [
    "stu2 = Student()\n",
    "stu2.name = \"marry\"\n",
    "stu2.chinese = 87\n",
    "stu2.english = 88\n",
    "stu2.math = 86\n"
   ]
  },
  {
   "cell_type": "code",
   "execution_count": 11,
   "metadata": {},
   "outputs": [
    {
     "name": "stdout",
     "output_type": "stream",
     "text": [
      "robert\n",
      "marry\n"
     ]
    }
   ],
   "source": [
    "print(stu1.name)\n",
    "print(stu2.name)"
   ]
  }
 ],
 "metadata": {
  "kernelspec": {
   "display_name": "Python 3",
   "language": "python",
   "name": "python3"
  },
  "language_info": {
   "codemirror_mode": {
    "name": "ipython",
    "version": 3
   },
   "file_extension": ".py",
   "mimetype": "text/x-python",
   "name": "python",
   "nbconvert_exporter": "python",
   "pygments_lexer": "ipython3",
   "version": "3.10.13"
  }
 },
 "nbformat": 4,
 "nbformat_minor": 2
}
