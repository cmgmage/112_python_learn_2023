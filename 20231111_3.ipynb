{
 "cells": [
  {
   "cell_type": "code",
   "execution_count": 2,
   "metadata": {},
   "outputs": [],
   "source": [
    "stu1 = [78,92,65,83,74]\n",
    "stu2 = [68,93,75,86,34]\n",
    "stu3 = [98,94,85,89,64]\n"
   ]
  },
  {
   "cell_type": "code",
   "execution_count": 3,
   "metadata": {},
   "outputs": [
    {
     "data": {
      "text/plain": [
       "[[78, 92, 65, 83, 74], [68, 93, 75, 86, 34], [98, 94, 85, 89, 64]]"
      ]
     },
     "execution_count": 3,
     "metadata": {},
     "output_type": "execute_result"
    }
   ],
   "source": [
    "students = [stu1,stu2,stu3]\n",
    "students"
   ]
  },
  {
   "cell_type": "code",
   "execution_count": 6,
   "metadata": {},
   "outputs": [
    {
     "data": {
      "text/plain": [
       "[[78, 92, 65, 83, 74], [68, 93, 75, 86, 34], [98, 94, 85, 89, 64]]"
      ]
     },
     "execution_count": 6,
     "metadata": {},
     "output_type": "execute_result"
    }
   ],
   "source": [
    "students = list()\n",
    "students.append(stu1)\n",
    "students.append(stu2)\n",
    "students.append(stu3)\n",
    "students"
   ]
  },
  {
   "cell_type": "code",
   "execution_count": 10,
   "metadata": {},
   "outputs": [
    {
     "data": {
      "text/plain": [
       "[89, 99, 68, 80, 97]"
      ]
     },
     "execution_count": 10,
     "metadata": {},
     "output_type": "execute_result"
    }
   ],
   "source": [
    "# 建立一個學生的5個分數\n",
    "import random\n",
    "\n",
    "stu = []\n",
    "for _ in range(5): # _省略運算子，純借由迴圈方式產生5組分數，並未運用到迴圈的變數\n",
    "    score = random.randint(50,100)\n",
    "    stu.append(score)\n",
    "\n",
    "stu\n"
   ]
  },
  {
   "cell_type": "code",
   "execution_count": 11,
   "metadata": {},
   "outputs": [
    {
     "data": {
      "text/plain": [
       "[[88, 67, 90, 62, 52],\n",
       " [51, 79, 70, 74, 77],\n",
       " [99, 81, 69, 53, 69],\n",
       " [61, 78, 63, 67, 52],\n",
       " [95, 60, 77, 68, 81],\n",
       " [67, 55, 72, 85, 52],\n",
       " [52, 64, 85, 88, 53],\n",
       " [57, 72, 66, 94, 83],\n",
       " [87, 91, 66, 85, 68],\n",
       " [51, 61, 50, 86, 81],\n",
       " [99, 96, 71, 79, 96],\n",
       " [51, 65, 70, 80, 72],\n",
       " [96, 51, 89, 69, 84],\n",
       " [78, 87, 88, 87, 58],\n",
       " [100, 73, 53, 71, 95],\n",
       " [81, 89, 99, 53, 80],\n",
       " [54, 97, 95, 58, 50],\n",
       " [79, 81, 65, 78, 77],\n",
       " [76, 95, 58, 76, 51],\n",
       " [79, 56, 85, 52, 81],\n",
       " [67, 85, 85, 91, 67],\n",
       " [69, 99, 50, 71, 98],\n",
       " [63, 100, 57, 90, 88],\n",
       " [85, 72, 94, 63, 66],\n",
       " [78, 94, 62, 94, 54],\n",
       " [62, 76, 73, 82, 87],\n",
       " [57, 82, 68, 97, 55],\n",
       " [59, 57, 70, 69, 97],\n",
       " [68, 86, 97, 83, 94],\n",
       " [69, 51, 99, 77, 56],\n",
       " [55, 94, 70, 72, 60],\n",
       " [58, 70, 81, 93, 58],\n",
       " [75, 80, 76, 53, 57],\n",
       " [84, 74, 54, 78, 98],\n",
       " [62, 88, 71, 55, 66],\n",
       " [57, 69, 58, 75, 68],\n",
       " [89, 88, 68, 68, 77],\n",
       " [58, 91, 91, 51, 93],\n",
       " [76, 59, 85, 66, 53],\n",
       " [62, 59, 83, 87, 50],\n",
       " [57, 50, 89, 80, 78],\n",
       " [100, 82, 53, 86, 59],\n",
       " [90, 91, 84, 92, 68],\n",
       " [84, 80, 87, 86, 79],\n",
       " [89, 55, 90, 67, 72],\n",
       " [59, 92, 57, 97, 94],\n",
       " [95, 53, 50, 86, 77],\n",
       " [56, 53, 60, 87, 80],\n",
       " [73, 66, 95, 81, 71],\n",
       " [67, 59, 97, 58, 88]]"
      ]
     },
     "execution_count": 11,
     "metadata": {},
     "output_type": "execute_result"
    }
   ],
   "source": [
    "# 建立50個學生的5個分數\n",
    "import random\n",
    "\n",
    "students = []\n",
    "for _ in range(50):\n",
    "    stu = []\n",
    "    for _ in range(5): # _省略運算子，純借由迴圈方式產生5組分數，並未運用到迴圈的變數\n",
    "        score = random.randint(50,100)\n",
    "        stu.append(score)\n",
    "    students.append(stu)\n",
    "\n",
    "students\n"
   ]
  },
  {
   "cell_type": "code",
   "execution_count": 12,
   "metadata": {},
   "outputs": [],
   "source": [
    "# 建立funtion讓邏輯簡單化\n",
    "import random\n",
    "\n",
    "def createsStudent()->list[int]:\n",
    "    stu = []\n",
    "    for _ in range(5): # _省略運算子，純借由迴圈方式產生5組分數，並未運用到迴圈的變數\n",
    "        score = random.randint(50,100)\n",
    "        stu.append(score)\n",
    "    return stu"
   ]
  },
  {
   "cell_type": "code",
   "execution_count": 17,
   "metadata": {},
   "outputs": [
    {
     "data": {
      "text/plain": [
       "[[71, 74, 94, 53, 81],\n",
       " [91, 73, 65, 78, 93],\n",
       " [89, 55, 63, 76, 76],\n",
       " [79, 94, 73, 84, 61],\n",
       " [66, 51, 67, 76, 92],\n",
       " [69, 65, 84, 74, 71],\n",
       " [96, 99, 59, 85, 84],\n",
       " [50, 89, 93, 77, 80],\n",
       " [78, 67, 89, 58, 99],\n",
       " [68, 54, 72, 80, 64],\n",
       " [67, 55, 96, 88, 54],\n",
       " [73, 64, 59, 60, 51],\n",
       " [93, 84, 81, 70, 78],\n",
       " [99, 86, 79, 52, 83],\n",
       " [71, 67, 60, 52, 82],\n",
       " [74, 58, 59, 97, 55],\n",
       " [58, 87, 89, 59, 95],\n",
       " [61, 85, 91, 51, 75],\n",
       " [73, 80, 79, 93, 78],\n",
       " [89, 52, 84, 69, 91],\n",
       " [71, 57, 54, 85, 74],\n",
       " [79, 91, 66, 78, 95],\n",
       " [67, 56, 94, 90, 76],\n",
       " [97, 89, 85, 84, 67],\n",
       " [83, 53, 50, 64, 70],\n",
       " [96, 68, 78, 71, 62],\n",
       " [77, 93, 69, 85, 81],\n",
       " [88, 60, 69, 98, 52],\n",
       " [74, 85, 80, 90, 96],\n",
       " [97, 70, 60, 80, 51],\n",
       " [91, 55, 95, 77, 63],\n",
       " [87, 54, 66, 60, 69],\n",
       " [66, 60, 86, 52, 75],\n",
       " [68, 76, 89, 58, 50],\n",
       " [72, 68, 65, 68, 64],\n",
       " [92, 83, 57, 88, 77],\n",
       " [95, 83, 83, 82, 52],\n",
       " [54, 99, 77, 71, 90],\n",
       " [54, 71, 50, 53, 63],\n",
       " [98, 87, 66, 77, 67],\n",
       " [50, 89, 88, 80, 82],\n",
       " [75, 96, 79, 91, 77],\n",
       " [67, 73, 90, 98, 99],\n",
       " [89, 75, 89, 95, 84],\n",
       " [97, 55, 91, 79, 74],\n",
       " [89, 72, 63, 94, 87],\n",
       " [70, 64, 74, 94, 76],\n",
       " [84, 63, 63, 100, 54],\n",
       " [100, 82, 74, 70, 88],\n",
       " [55, 54, 58, 55, 85]]"
      ]
     },
     "execution_count": 17,
     "metadata": {},
     "output_type": "execute_result"
    }
   ],
   "source": [
    "classes = []\n",
    "for _ in range(50):\n",
    "    stu = createsStudent()\n",
    "    classes.append(stu)\n",
    "classes"
   ]
  }
 ],
 "metadata": {
  "kernelspec": {
   "display_name": "Python 3",
   "language": "python",
   "name": "python3"
  },
  "language_info": {
   "codemirror_mode": {
    "name": "ipython",
    "version": 3
   },
   "file_extension": ".py",
   "mimetype": "text/x-python",
   "name": "python",
   "nbconvert_exporter": "python",
   "pygments_lexer": "ipython3",
   "version": "3.10.13"
  }
 },
 "nbformat": 4,
 "nbformat_minor": 2
}
