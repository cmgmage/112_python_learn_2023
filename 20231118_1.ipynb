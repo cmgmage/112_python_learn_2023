{
 "cells": [
  {
   "cell_type": "code",
   "execution_count": 9,
   "metadata": {},
   "outputs": [
    {
     "name": "stdout",
     "output_type": "stream",
     "text": [
      "Mozilla/5.0 (Windows NT 10.0; Win64; x64; rv:109.0) Gecko/20100101 Firefox/115.0\n"
     ]
    }
   ],
   "source": [
    "import requests\n",
    "from fake_useragent import UserAgent\n",
    "\n",
    "url = \"https://service.taipower.com.tw/data/opendata/apply/file/d010004/%E6%9C%AC%E5%85%AC%E5%8F%B8%E5%9C%9F%E5%9C%B0%E5%87%BA%E7%A7%9F%E4%BD%9C%E9%9B%BB%E5%8B%95%E6%A9%9F%E8%BB%8A%E9%9B%BB%E6%B1%A0%E4%BA%A4%E6%8F%9B%E7%AB%99%E6%98%8E%E7%B4%B0%E8%A1%A8(%E6%96%B0).csv\"\n",
    "ua = UserAgent()\n",
    "#response = requests.get(url, headers = {\"User-Agent\":ua.random})\n",
    "print(ua.random)\n",
    "#if response.status_code == 200:\n",
    "#    print(response.text)"
   ]
  }
 ],
 "metadata": {
  "kernelspec": {
   "display_name": "Python 3",
   "language": "python",
   "name": "python3"
  },
  "language_info": {
   "codemirror_mode": {
    "name": "ipython",
    "version": 3
   },
   "file_extension": ".py",
   "mimetype": "text/x-python",
   "name": "python",
   "nbconvert_exporter": "python",
   "pygments_lexer": "ipython3",
   "version": "3.10.13"
  }
 },
 "nbformat": 4,
 "nbformat_minor": 2
}
